{
  "nbformat": 4,
  "nbformat_minor": 0,
  "metadata": {
    "anaconda-cloud": {},
    "kernelspec": {
      "display_name": "Python 3",
      "language": "python",
      "name": "python3"
    },
    "language_info": {
      "codemirror_mode": {
        "name": "ipython",
        "version": 3
      },
      "file_extension": ".py",
      "mimetype": "text/x-python",
      "name": "python",
      "nbconvert_exporter": "python",
      "pygments_lexer": "ipython3",
      "version": "3.6.6"
    },
    "colab": {
      "provenance": []
    },
    "accelerator": "GPU"
  },
  "cells": [
    {
      "cell_type": "markdown",
      "metadata": {
        "id": "cW-EyI5Lxpqi"
      },
      "source": [
        "# Copyright\n",
        "\n",
        "<PRE>\n",
        "Copyright (c) 2024 Bálint Gyires-Tóth - All Rights Reserved\n",
        "You may use and modify this code for research and development purpuses.\n",
        "Using this code for educational purposes (self-paced or instructor led) without the permission of the author is prohibited.\n",
        "</PRE>"
      ]
    },
    {
      "cell_type": "markdown",
      "source": [
        "# Convolutional Neural Network exercise\n",
        "\n",
        "In this notebook, you will build a convolutional neural network, which offers superior results over the previous MLP solution. Additionally, you will perform a more detailed evaluation."
      ],
      "metadata": {
        "id": "3EX4cCa4WKJu"
      }
    },
    {
      "cell_type": "code",
      "source": [
        "# imports\n",
        "from tensorflow.keras.datasets import cifar10\n",
        "from tensorflow.keras.utils import to_categorical\n",
        "import numpy as np\n",
        "import matplotlib.pyplot as plt\n",
        "from tensorflow.keras.models import Sequential\n",
        "from tensorflow.keras.layers import Dense, Conv2D, MaxPool2D, Flatten, Dropout, BatchNormalization\n",
        "from tensorflow.keras.initializers import HeNormal\n",
        "from tensorflow.keras.callbacks import EarlyStopping"
      ],
      "metadata": {
        "id": "GdCMhy4HA2qd"
      },
      "execution_count": 1,
      "outputs": []
    },
    {
      "cell_type": "markdown",
      "source": [
        "# 1. Data\n",
        "The dataset we will use is the well-known CIFAR10 (Canadian Institute For Advanced Research). Explore the details on the Keras website first: https://keras.io/api/datasets/cifar10/\n",
        "\n",
        "There isn't much difference between the data preprocessing part and the one we did before. The only difference is that we don't have to reshape images into vectors, but we are working with a 4 dimensional data structure, where the dimensions are: batch, X, Y, and color channels.\n",
        "\n",
        "In the event that anything is not clear regarding the data preparation part, please check the previous CIFAR10 notebook."
      ],
      "metadata": {
        "id": "yY9fztIeWIKt"
      }
    },
    {
      "cell_type": "code",
      "source": [
        "(X_train, Y_train), (X_test, Y_test) = cifar10.load_data()"
      ],
      "metadata": {
        "id": "bez7q0eiWQCK",
        "colab": {
          "base_uri": "https://localhost:8080/"
        },
        "outputId": "1bf1d2f6-f12c-4d6f-a937-a36a75e32822"
      },
      "execution_count": 2,
      "outputs": [
        {
          "output_type": "stream",
          "name": "stdout",
          "text": [
            "Downloading data from https://www.cs.toronto.edu/~kriz/cifar-10-python.tar.gz\n",
            "170498071/170498071 [==============================] - 2s 0us/step\n"
          ]
        }
      ]
    },
    {
      "cell_type": "code",
      "source": [
        "# it is in int8 format, the neural network requires float32\n",
        "X_train = X_train.astype(\"float32\")\n",
        "X_test = X_test.astype(\"float32\")"
      ],
      "metadata": {
        "id": "vukOcBM0XzSj"
      },
      "execution_count": 3,
      "outputs": []
    },
    {
      "cell_type": "code",
      "source": [
        "train_ratio  = 0.8\n",
        "train_length = X_train.shape[0]\n",
        "train_split  = int(train_ratio*train_length)\n",
        "X_valid, Y_valid = X_train[train_split:], Y_train[train_split:]\n",
        "X_train, Y_train = X_train[:train_split], Y_train[:train_split]"
      ],
      "metadata": {
        "id": "mRwuWxxIxLgN"
      },
      "execution_count": 4,
      "outputs": []
    },
    {
      "cell_type": "code",
      "source": [
        "mean = X_train.mean(axis=0)\n",
        "std  = X_train.std(axis=0)\n",
        "\n",
        "X_train = (X_train-mean)/std\n",
        "X_valid = (X_valid-mean)/std\n",
        "X_test  = (X_test-mean)/std"
      ],
      "metadata": {
        "id": "2ESLP1EIyB2J"
      },
      "execution_count": 5,
      "outputs": []
    },
    {
      "cell_type": "code",
      "source": [
        "nb_classes = len(np.unique(Y_train))\n",
        "Y_train = to_categorical(Y_train, nb_classes)\n",
        "Y_valid = to_categorical(Y_valid, nb_classes)\n",
        "Y_test  = to_categorical(Y_test, nb_classes)"
      ],
      "metadata": {
        "id": "xwZ4OJ6I8lba"
      },
      "execution_count": 6,
      "outputs": []
    },
    {
      "cell_type": "code",
      "source": [
        "print(\"Shapes of the training, validation and test input data:\", X_train.shape, X_valid.shape, X_test.shape)\n",
        "print(\"Shapes of the training, validation and test output data:\", Y_train.shape, Y_valid.shape, Y_test.shape)\n",
        "print(\"Mean values of the training, validation and test input data:\", X_train.mean(), X_valid.mean(), X_test.mean())\n",
        "print(\"Standard deviation of the training, validation and test input data:\", X_train.std(), X_valid.std(), X_test.std())"
      ],
      "metadata": {
        "id": "O_jdJVcvX0vi",
        "colab": {
          "base_uri": "https://localhost:8080/"
        },
        "outputId": "9009cfb0-9d82-4444-fc5f-25fc39aba3bb"
      },
      "execution_count": 7,
      "outputs": [
        {
          "output_type": "stream",
          "name": "stdout",
          "text": [
            "Shapes of the training, validation and test input data: (40000, 32, 32, 3) (10000, 32, 32, 3) (10000, 32, 32, 3)\n",
            "Shapes of the training, validation and test output data: (40000, 10) (10000, 10) (10000, 10)\n",
            "Mean values of the training, validation and test input data: 2.2788842e-09 0.0023437198 0.013331206\n",
            "Standard deviation of the training, validation and test input data: 1.0000023 0.9965626 0.99783075\n"
          ]
        }
      ]
    },
    {
      "cell_type": "markdown",
      "metadata": {
        "id": "cJ14oyZExpqj"
      },
      "source": [
        "# 2. Exercise: training"
      ]
    },
    {
      "cell_type": "markdown",
      "source": [
        "Create and train a convolutional neural network with the following requirements:\n",
        "* apply early stopping with patience=5 and monitor the validation accuracy, don't forget to load back the best weights after early stopping\n",
        "* the number of trainable parameters is lower than 200.000\n",
        "* the validation accuracy must be higher than 72%\n",
        "\n",
        "Hints:\n",
        "* you can always inspect the number of trainable parameters per layer with model.summary()\n",
        "* usually the most trainable parameters are between the last convolutional layer and the next dense layer -- so you should have a reasonable output size at the last convolutional layer\n",
        "* regularization helps (e.g. DropOut and/or BatchNormalization)\n",
        "* use the right activation function at the output layer and the corresponding loss function\n",
        "* for the chosen activation functions, please use the appropriate initialization method\n",
        "* you can match the dimension of the last conv/pooling layer to the next dense layer with e.g. Flatten()\n",
        "* ADAM optimizer is a reasonable choice\n",
        "* don't forget to turn on GPU support in Colab, otherwise, it would be quite slow to train the networks\n",
        "\n"
      ],
      "metadata": {
        "id": "j1tGVPdD-pp3"
      }
    },
    {
      "cell_type": "code",
      "source": [
        "es =  EarlyStopping(monitor='val_loss', patience=5, restore_best_weights=True)"
      ],
      "metadata": {
        "id": "5dBQxJHIHrbd"
      },
      "execution_count": 10,
      "outputs": []
    },
    {
      "cell_type": "code",
      "source": [
        "# model definition\n",
        "model = Sequential()\n",
        "model.add(Conv2D(32, (3, 3), activation='relu', kernel_initializer=HeNormal(), input_shape=(32, 32, 3)))\n",
        "model.add(BatchNormalization())\n",
        "model.add(MaxPool2D((2, 2)))\n",
        "model.add(Dropout(0.25))\n",
        "\n",
        "model.add(Conv2D(64, (3, 3), activation='relu', kernel_initializer=HeNormal()))\n",
        "model.add(BatchNormalization())\n",
        "model.add(MaxPool2D((2, 2)))\n",
        "model.add(Dropout(0.3))\n",
        "\n",
        "model.add(Conv2D(128, (3, 3), activation='relu', kernel_initializer=HeNormal()))\n",
        "model.add(BatchNormalization())\n",
        "model.add(MaxPool2D((2, 2)))\n",
        "model.add(Dropout(0.4))\n",
        "\n",
        "model.add(Flatten())\n",
        "model.add(Dense(128, activation='relu', kernel_initializer=HeNormal()))\n",
        "model.add(BatchNormalization())\n",
        "model.add(Dropout(0.5))\n",
        "model.add(Dense(nb_classes, activation='softmax'))\n",
        "\n",
        "# loss function and optimizer\n",
        "model.compile(loss='categorical_crossentropy', optimizer='adam', metrics=['accuracy'])"
      ],
      "metadata": {
        "id": "PuxHOqLt-3Nd"
      },
      "execution_count": 11,
      "outputs": []
    },
    {
      "cell_type": "code",
      "source": [
        "model.summary()"
      ],
      "metadata": {
        "id": "5eomQw8uE9Ix",
        "colab": {
          "base_uri": "https://localhost:8080/"
        },
        "outputId": "350ce7d1-6308-45d6-9886-7fc29538123f"
      },
      "execution_count": 12,
      "outputs": [
        {
          "output_type": "stream",
          "name": "stdout",
          "text": [
            "Model: \"sequential\"\n",
            "_________________________________________________________________\n",
            " Layer (type)                Output Shape              Param #   \n",
            "=================================================================\n",
            " conv2d (Conv2D)             (None, 30, 30, 32)        896       \n",
            "                                                                 \n",
            " batch_normalization (Batch  (None, 30, 30, 32)        128       \n",
            " Normalization)                                                  \n",
            "                                                                 \n",
            " max_pooling2d (MaxPooling2  (None, 15, 15, 32)        0         \n",
            " D)                                                              \n",
            "                                                                 \n",
            " dropout (Dropout)           (None, 15, 15, 32)        0         \n",
            "                                                                 \n",
            " conv2d_1 (Conv2D)           (None, 13, 13, 64)        18496     \n",
            "                                                                 \n",
            " batch_normalization_1 (Bat  (None, 13, 13, 64)        256       \n",
            " chNormalization)                                                \n",
            "                                                                 \n",
            " max_pooling2d_1 (MaxPoolin  (None, 6, 6, 64)          0         \n",
            " g2D)                                                            \n",
            "                                                                 \n",
            " dropout_1 (Dropout)         (None, 6, 6, 64)          0         \n",
            "                                                                 \n",
            " conv2d_2 (Conv2D)           (None, 4, 4, 128)         73856     \n",
            "                                                                 \n",
            " batch_normalization_2 (Bat  (None, 4, 4, 128)         512       \n",
            " chNormalization)                                                \n",
            "                                                                 \n",
            " max_pooling2d_2 (MaxPoolin  (None, 2, 2, 128)         0         \n",
            " g2D)                                                            \n",
            "                                                                 \n",
            " dropout_2 (Dropout)         (None, 2, 2, 128)         0         \n",
            "                                                                 \n",
            " flatten (Flatten)           (None, 512)               0         \n",
            "                                                                 \n",
            " dense (Dense)               (None, 128)               65664     \n",
            "                                                                 \n",
            " batch_normalization_3 (Bat  (None, 128)               512       \n",
            " chNormalization)                                                \n",
            "                                                                 \n",
            " dropout_3 (Dropout)         (None, 128)               0         \n",
            "                                                                 \n",
            " dense_1 (Dense)             (None, 10)                1290      \n",
            "                                                                 \n",
            "=================================================================\n",
            "Total params: 161610 (631.29 KB)\n",
            "Trainable params: 160906 (628.54 KB)\n",
            "Non-trainable params: 704 (2.75 KB)\n",
            "_________________________________________________________________\n"
          ]
        }
      ]
    },
    {
      "cell_type": "markdown",
      "source": [
        "Please, check the number of trainable paramers:"
      ],
      "metadata": {
        "id": "8tIbIIeTEI41"
      }
    },
    {
      "cell_type": "code",
      "source": [
        "print(\"#trainable parameters:\",model.count_params())"
      ],
      "metadata": {
        "id": "xdBAG7EJETlX",
        "colab": {
          "base_uri": "https://localhost:8080/"
        },
        "outputId": "389e5841-4efa-4431-ac62-42a28a02b07c"
      },
      "execution_count": 13,
      "outputs": [
        {
          "output_type": "stream",
          "name": "stdout",
          "text": [
            "#trainable parameters: 161610\n"
          ]
        }
      ]
    },
    {
      "cell_type": "code",
      "source": [
        "# training\n",
        "network_history = model.fit(X_train, Y_train,\n",
        "                            validation_data=(X_valid,Y_valid),\n",
        "                            batch_size=128,\n",
        "                            epochs=100,\n",
        "                            verbose=1,\n",
        "                            callbacks=[es])"
      ],
      "metadata": {
        "id": "u8tFNCNVHyt9",
        "colab": {
          "base_uri": "https://localhost:8080/"
        },
        "outputId": "10d00b72-6e16-49b0-dbcf-33b72fa973d3"
      },
      "execution_count": 15,
      "outputs": [
        {
          "output_type": "stream",
          "name": "stdout",
          "text": [
            "Epoch 1/100\n",
            "313/313 [==============================] - 12s 15ms/step - loss: 2.0715 - accuracy: 0.3088 - val_loss: 1.5432 - val_accuracy: 0.4331\n",
            "Epoch 2/100\n",
            "313/313 [==============================] - 3s 10ms/step - loss: 1.5593 - accuracy: 0.4298 - val_loss: 1.4630 - val_accuracy: 0.4694\n",
            "Epoch 3/100\n",
            "313/313 [==============================] - 3s 10ms/step - loss: 1.3995 - accuracy: 0.4922 - val_loss: 1.3211 - val_accuracy: 0.5281\n",
            "Epoch 4/100\n",
            "313/313 [==============================] - 3s 10ms/step - loss: 1.2969 - accuracy: 0.5350 - val_loss: 1.1961 - val_accuracy: 0.5687\n",
            "Epoch 5/100\n",
            "313/313 [==============================] - 3s 11ms/step - loss: 1.2178 - accuracy: 0.5650 - val_loss: 1.0810 - val_accuracy: 0.6114\n",
            "Epoch 6/100\n",
            "313/313 [==============================] - 3s 10ms/step - loss: 1.1545 - accuracy: 0.5893 - val_loss: 1.0563 - val_accuracy: 0.6195\n",
            "Epoch 7/100\n",
            "313/313 [==============================] - 3s 10ms/step - loss: 1.1007 - accuracy: 0.6101 - val_loss: 1.0307 - val_accuracy: 0.6256\n",
            "Epoch 8/100\n",
            "313/313 [==============================] - 4s 12ms/step - loss: 1.0622 - accuracy: 0.6240 - val_loss: 0.9520 - val_accuracy: 0.6577\n",
            "Epoch 9/100\n",
            "313/313 [==============================] - 3s 11ms/step - loss: 1.0209 - accuracy: 0.6421 - val_loss: 0.8983 - val_accuracy: 0.6808\n",
            "Epoch 10/100\n",
            "313/313 [==============================] - 3s 10ms/step - loss: 0.9916 - accuracy: 0.6524 - val_loss: 0.8878 - val_accuracy: 0.6849\n",
            "Epoch 11/100\n",
            "313/313 [==============================] - 3s 10ms/step - loss: 0.9664 - accuracy: 0.6602 - val_loss: 0.8661 - val_accuracy: 0.6915\n",
            "Epoch 12/100\n",
            "313/313 [==============================] - 4s 12ms/step - loss: 0.9462 - accuracy: 0.6685 - val_loss: 0.8273 - val_accuracy: 0.7050\n",
            "Epoch 13/100\n",
            "313/313 [==============================] - 3s 10ms/step - loss: 0.9214 - accuracy: 0.6748 - val_loss: 0.8021 - val_accuracy: 0.7185\n",
            "Epoch 14/100\n",
            "313/313 [==============================] - 3s 10ms/step - loss: 0.8990 - accuracy: 0.6876 - val_loss: 0.8121 - val_accuracy: 0.7118\n",
            "Epoch 15/100\n",
            "313/313 [==============================] - 3s 10ms/step - loss: 0.8827 - accuracy: 0.6913 - val_loss: 0.7662 - val_accuracy: 0.7275\n",
            "Epoch 16/100\n",
            "313/313 [==============================] - 3s 11ms/step - loss: 0.8702 - accuracy: 0.6964 - val_loss: 0.7908 - val_accuracy: 0.7197\n",
            "Epoch 17/100\n",
            "313/313 [==============================] - 3s 10ms/step - loss: 0.8578 - accuracy: 0.7003 - val_loss: 0.7727 - val_accuracy: 0.7265\n",
            "Epoch 18/100\n",
            "313/313 [==============================] - 3s 10ms/step - loss: 0.8419 - accuracy: 0.7058 - val_loss: 0.7622 - val_accuracy: 0.7263\n",
            "Epoch 19/100\n",
            "313/313 [==============================] - 4s 12ms/step - loss: 0.8269 - accuracy: 0.7106 - val_loss: 0.7485 - val_accuracy: 0.7329\n",
            "Epoch 20/100\n",
            "313/313 [==============================] - 3s 10ms/step - loss: 0.8184 - accuracy: 0.7151 - val_loss: 0.7261 - val_accuracy: 0.7442\n",
            "Epoch 21/100\n",
            "313/313 [==============================] - 3s 10ms/step - loss: 0.8081 - accuracy: 0.7191 - val_loss: 0.7193 - val_accuracy: 0.7450\n",
            "Epoch 22/100\n",
            "313/313 [==============================] - 3s 10ms/step - loss: 0.7960 - accuracy: 0.7237 - val_loss: 0.7555 - val_accuracy: 0.7334\n",
            "Epoch 23/100\n",
            "313/313 [==============================] - 4s 11ms/step - loss: 0.7869 - accuracy: 0.7268 - val_loss: 0.6946 - val_accuracy: 0.7530\n",
            "Epoch 24/100\n",
            "313/313 [==============================] - 3s 10ms/step - loss: 0.7771 - accuracy: 0.7288 - val_loss: 0.6792 - val_accuracy: 0.7624\n",
            "Epoch 25/100\n",
            "313/313 [==============================] - 3s 10ms/step - loss: 0.7687 - accuracy: 0.7319 - val_loss: 0.7120 - val_accuracy: 0.7478\n",
            "Epoch 26/100\n",
            "313/313 [==============================] - 3s 10ms/step - loss: 0.7611 - accuracy: 0.7336 - val_loss: 0.6708 - val_accuracy: 0.7617\n",
            "Epoch 27/100\n",
            "313/313 [==============================] - 3s 11ms/step - loss: 0.7513 - accuracy: 0.7383 - val_loss: 0.6647 - val_accuracy: 0.7645\n",
            "Epoch 28/100\n",
            "313/313 [==============================] - 3s 10ms/step - loss: 0.7515 - accuracy: 0.7374 - val_loss: 0.6624 - val_accuracy: 0.7634\n",
            "Epoch 29/100\n",
            "313/313 [==============================] - 3s 10ms/step - loss: 0.7486 - accuracy: 0.7413 - val_loss: 0.6850 - val_accuracy: 0.7579\n",
            "Epoch 30/100\n",
            "313/313 [==============================] - 4s 12ms/step - loss: 0.7310 - accuracy: 0.7451 - val_loss: 0.6595 - val_accuracy: 0.7683\n",
            "Epoch 31/100\n",
            "313/313 [==============================] - 3s 10ms/step - loss: 0.7261 - accuracy: 0.7484 - val_loss: 0.6630 - val_accuracy: 0.7647\n",
            "Epoch 32/100\n",
            "313/313 [==============================] - 3s 10ms/step - loss: 0.7298 - accuracy: 0.7444 - val_loss: 0.6506 - val_accuracy: 0.7679\n",
            "Epoch 33/100\n",
            "313/313 [==============================] - 3s 10ms/step - loss: 0.7207 - accuracy: 0.7487 - val_loss: 0.6459 - val_accuracy: 0.7709\n",
            "Epoch 34/100\n",
            "313/313 [==============================] - 4s 11ms/step - loss: 0.7110 - accuracy: 0.7541 - val_loss: 0.6496 - val_accuracy: 0.7731\n",
            "Epoch 35/100\n",
            "313/313 [==============================] - 3s 10ms/step - loss: 0.7025 - accuracy: 0.7559 - val_loss: 0.6354 - val_accuracy: 0.7766\n",
            "Epoch 36/100\n",
            "313/313 [==============================] - 3s 10ms/step - loss: 0.7054 - accuracy: 0.7548 - val_loss: 0.6570 - val_accuracy: 0.7696\n",
            "Epoch 37/100\n",
            "313/313 [==============================] - 3s 11ms/step - loss: 0.7012 - accuracy: 0.7573 - val_loss: 0.6342 - val_accuracy: 0.7781\n",
            "Epoch 38/100\n",
            "313/313 [==============================] - 3s 11ms/step - loss: 0.6960 - accuracy: 0.7561 - val_loss: 0.6508 - val_accuracy: 0.7715\n",
            "Epoch 39/100\n",
            "313/313 [==============================] - 3s 10ms/step - loss: 0.6952 - accuracy: 0.7605 - val_loss: 0.6269 - val_accuracy: 0.7796\n",
            "Epoch 40/100\n",
            "313/313 [==============================] - 3s 10ms/step - loss: 0.6938 - accuracy: 0.7599 - val_loss: 0.6384 - val_accuracy: 0.7772\n",
            "Epoch 41/100\n",
            "313/313 [==============================] - 3s 11ms/step - loss: 0.6890 - accuracy: 0.7619 - val_loss: 0.6427 - val_accuracy: 0.7726\n",
            "Epoch 42/100\n",
            "313/313 [==============================] - 3s 10ms/step - loss: 0.6799 - accuracy: 0.7638 - val_loss: 0.6072 - val_accuracy: 0.7867\n",
            "Epoch 43/100\n",
            "313/313 [==============================] - 3s 10ms/step - loss: 0.6857 - accuracy: 0.7596 - val_loss: 0.6324 - val_accuracy: 0.7771\n",
            "Epoch 44/100\n",
            "313/313 [==============================] - 3s 10ms/step - loss: 0.6760 - accuracy: 0.7639 - val_loss: 0.6288 - val_accuracy: 0.7787\n",
            "Epoch 45/100\n",
            "313/313 [==============================] - 4s 11ms/step - loss: 0.6756 - accuracy: 0.7656 - val_loss: 0.6251 - val_accuracy: 0.7821\n",
            "Epoch 46/100\n",
            "313/313 [==============================] - 3s 10ms/step - loss: 0.6706 - accuracy: 0.7670 - val_loss: 0.6136 - val_accuracy: 0.7898\n",
            "Epoch 47/100\n",
            "313/313 [==============================] - 3s 10ms/step - loss: 0.6690 - accuracy: 0.7690 - val_loss: 0.6035 - val_accuracy: 0.7910\n",
            "Epoch 48/100\n",
            "313/313 [==============================] - 4s 11ms/step - loss: 0.6607 - accuracy: 0.7716 - val_loss: 0.6143 - val_accuracy: 0.7902\n",
            "Epoch 49/100\n",
            "313/313 [==============================] - 4s 13ms/step - loss: 0.6587 - accuracy: 0.7711 - val_loss: 0.6398 - val_accuracy: 0.7772\n",
            "Epoch 50/100\n",
            "313/313 [==============================] - 3s 10ms/step - loss: 0.6586 - accuracy: 0.7711 - val_loss: 0.6122 - val_accuracy: 0.7893\n",
            "Epoch 51/100\n",
            "313/313 [==============================] - 4s 12ms/step - loss: 0.6597 - accuracy: 0.7702 - val_loss: 0.5942 - val_accuracy: 0.7944\n",
            "Epoch 52/100\n",
            "313/313 [==============================] - 5s 17ms/step - loss: 0.6537 - accuracy: 0.7727 - val_loss: 0.6382 - val_accuracy: 0.7797\n",
            "Epoch 53/100\n",
            "313/313 [==============================] - 5s 15ms/step - loss: 0.6511 - accuracy: 0.7746 - val_loss: 0.6102 - val_accuracy: 0.7870\n",
            "Epoch 54/100\n",
            "313/313 [==============================] - 4s 12ms/step - loss: 0.6441 - accuracy: 0.7763 - val_loss: 0.5977 - val_accuracy: 0.7939\n",
            "Epoch 55/100\n",
            "313/313 [==============================] - 3s 11ms/step - loss: 0.6480 - accuracy: 0.7758 - val_loss: 0.5956 - val_accuracy: 0.7936\n",
            "Epoch 56/100\n",
            "313/313 [==============================] - 3s 10ms/step - loss: 0.6430 - accuracy: 0.7772 - val_loss: 0.5963 - val_accuracy: 0.7944\n"
          ]
        }
      ]
    },
    {
      "cell_type": "markdown",
      "source": [
        "# 3. Exercise: evaluation on test data\n",
        "You will evaluate the classification of the test data using the common metrics and the confusion matrix in this section.\n",
        "\n",
        "\n",
        "As a first stes, let's run the predictions and convert the predicted softmax outputs to dense labels. The one-hot encoded labels are also converted back to dense labels, as they are required for the evaluation functions."
      ],
      "metadata": {
        "id": "2FtKp-a2-A9m"
      }
    },
    {
      "cell_type": "code",
      "source": [
        "probas = model.predict(X_test)\n",
        "preds  = np.argmax(probas,axis=1)\n",
        "Y_test_dense = np.argmax(Y_test, axis=1) # get the original dense labels of the test data"
      ],
      "metadata": {
        "id": "EcWAqwlDMq3y",
        "colab": {
          "base_uri": "https://localhost:8080/"
        },
        "outputId": "e3369837-945e-4a2a-d14c-e772a2eb2cf2"
      },
      "execution_count": 16,
      "outputs": [
        {
          "output_type": "stream",
          "name": "stdout",
          "text": [
            "313/313 [==============================] - 1s 2ms/step\n"
          ]
        }
      ]
    },
    {
      "cell_type": "markdown",
      "source": [
        "## 3.1. Exercise: Metrics\n",
        "please review the common classification metrics (accuracy, precision, recall, F1) for the complete model (not per class).\n",
        "\n",
        "Hints:\n",
        "* use macro averaging\n",
        "* you have to import the right functions from [sklearn.metrics](https://scikit-learn.org/stable/modules/model_evaluation.html)\n"
      ],
      "metadata": {
        "id": "RWJ-PH_iMs9K"
      }
    },
    {
      "cell_type": "code",
      "source": [
        "from sklearn.metrics import accuracy_score, precision_score, recall_score, f1_score"
      ],
      "metadata": {
        "id": "5sKm5zHSMZ_x"
      },
      "execution_count": 17,
      "outputs": []
    },
    {
      "cell_type": "code",
      "source": [
        "print(\"Accuracy:\", accuracy_score(Y_test_dense, preds))\n",
        "print(\"Precision:\", precision_score(Y_test_dense, preds, average = 'macro'))\n",
        "print(\"Recall:\", recall_score(Y_test_dense, preds, average = 'macro'))\n",
        "print(\"F1:\", f1_score(Y_test_dense, preds, average = 'macro'))"
      ],
      "metadata": {
        "id": "I3_9wgDREUna",
        "colab": {
          "base_uri": "https://localhost:8080/"
        },
        "outputId": "ea5cbe0a-ec7e-4feb-e527-7a80dd9189c8"
      },
      "execution_count": 18,
      "outputs": [
        {
          "output_type": "stream",
          "name": "stdout",
          "text": [
            "Accuracy: 0.7886\n",
            "Precision: 0.7919646338696582\n",
            "Recall: 0.7886\n",
            "F1: 0.7875124586953876\n"
          ]
        }
      ]
    },
    {
      "cell_type": "markdown",
      "source": [
        "\n",
        "## 3.2. Exercise: Confusion matrix\n",
        "Calculate the confusion matrix and display the results in a heatmap (with decimal values).\n",
        "\n",
        "Hints:\n",
        "* you have to do the imports this time too, e.g. from [sklearn.metrics](https://scikit-learn.org/stable/modules/model_evaluation.html) and the [heatmap function](https://seaborn.pydata.org/generated/seaborn.heatmap.html) of [seaborn](https://seaborn.pydata.org/)\n",
        "* for displaying the decimal values, you have to turn annot=True and define fmt='d' in the heatmap function of seaborn"
      ],
      "metadata": {
        "id": "ECHguBFtGL7f"
      }
    },
    {
      "cell_type": "code",
      "source": [
        "from sklearn.metrics import confusion_matrix\n",
        "import seaborn as sns"
      ],
      "metadata": {
        "id": "SIi2VzMBO3yD"
      },
      "execution_count": 19,
      "outputs": []
    },
    {
      "cell_type": "code",
      "metadata": {
        "id": "cdqODx92Svw7",
        "colab": {
          "base_uri": "https://localhost:8080/",
          "height": 694
        },
        "outputId": "cd4fc071-c51f-4c0b-c690-6d73ad7c1a11"
      },
      "source": [
        "conf = confusion_matrix(Y_test_dense, preds)\n",
        "plt.figure(figsize=(8,8))\n",
        "sns.heatmap(conf, annot = True, fmt = 'd')\n",
        "#ax = sns.heatmap(conf, annot = True, fmt = 'd')\n",
        "#ax.set(xlabel=\"Y_test\", ylabel=\"Y_predicted\")"
      ],
      "execution_count": 26,
      "outputs": [
        {
          "output_type": "execute_result",
          "data": {
            "text/plain": [
              "<Axes: >"
            ]
          },
          "metadata": {},
          "execution_count": 26
        },
        {
          "output_type": "display_data",
          "data": {
            "text/plain": [
              "<Figure size 800x800 with 2 Axes>"
            ],
            "image/png": "[encoded data removed]"
          },
          "metadata": {}
        }
      ]
    }
  ]
}